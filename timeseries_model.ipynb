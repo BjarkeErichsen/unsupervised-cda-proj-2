{
 "cells": [
  {
   "cell_type": "code",
   "execution_count": 1,
   "id": "ab3719ca",
   "metadata": {},
   "outputs": [
    {
     "name": "stdout",
     "output_type": "stream",
     "text": [
      "   Unnamed: 0  HR_TD_Mean  HR_TD_Median  HR_TD_std  HR_TD_Min  HR_TD_Max  \\\n",
      "0           0   78.663878         76.70   7.480043      67.25      92.48   \n",
      "1           1   76.540732         76.61   2.584756      69.82      82.33   \n",
      "2           2   78.173563         77.92   2.681255      72.22      82.80   \n",
      "3           3   83.073688         83.88   7.363598      69.42      96.12   \n",
      "4           4   72.281250         72.91   3.193762      64.95      79.98   \n",
      "\n",
      "   HR_TD_AUC  HR_TD_Kurtosis  HR_TD_Skew  HR_TD_Slope_min  ...  upset  \\\n",
      "0  23048.450       -1.091448    0.369955          -0.7300  ...    1.0   \n",
      "1  23959.920       -0.245338    0.338732          -0.3600  ...    2.0   \n",
      "2  20324.605       -0.615922   -0.233047          -0.6300  ...    1.0   \n",
      "3  24924.300       -0.866610   -0.046021          -0.4650  ...    1.0   \n",
      "4  23052.100        0.200401   -0.560948          -0.3725  ...    3.0   \n",
      "\n",
      "   hostile  alert  ashamed  inspired  nervous  attentive  afraid  active  \\\n",
      "0      1.0    2.0      1.0       2.0      2.0        3.0     1.0     2.0   \n",
      "1      1.0    3.0      2.0       2.0      2.0        3.0     1.0     3.0   \n",
      "2      1.0    2.0      1.0       3.0      2.0        3.0     2.0     3.0   \n",
      "3      1.0    2.0      1.0       3.0      2.0        3.0     2.0     3.0   \n",
      "4      1.0    3.0      2.0       3.0      3.0        4.0     2.0     4.0   \n",
      "\n",
      "   determined  \n",
      "0         2.0  \n",
      "1         3.0  \n",
      "2         3.0  \n",
      "3         3.0  \n",
      "4         4.0  \n",
      "\n",
      "[5 rows x 71 columns]\n"
     ]
    }
   ],
   "source": [
    "#case2\n",
    "\n",
    "import pandas as pd\n",
    "import numpy as np\n",
    "import matplotlib.pyplot as plt\n",
    "\n",
    "data = pd.read_csv('data/HR_data_2.csv')\n",
    "#print header\n",
    "print(data.head())\n"
   ]
  },
  {
   "cell_type": "code",
   "execution_count": 2,
   "id": "794c3683",
   "metadata": {},
   "outputs": [],
   "source": [
    "import torch"
   ]
  },
  {
   "cell_type": "code",
   "execution_count": 3,
   "id": "f900c3e7",
   "metadata": {},
   "outputs": [
    {
     "data": {
      "text/plain": [
       "Index(['Unnamed: 0', 'HR_TD_Mean', 'HR_TD_Median', 'HR_TD_std', 'HR_TD_Min',\n",
       "       'HR_TD_Max', 'HR_TD_AUC', 'HR_TD_Kurtosis', 'HR_TD_Skew',\n",
       "       'HR_TD_Slope_min', 'HR_TD_Slope_max', 'HR_TD_Slope_mean', 'HR_TD_Slope',\n",
       "       'TEMP_TD_Mean', 'TEMP_TD_Median', 'TEMP_TD_std', 'TEMP_TD_Min',\n",
       "       'TEMP_TD_Max', 'TEMP_TD_AUC', 'TEMP_TD_Kurtosis', 'TEMP_TD_Skew',\n",
       "       'TEMP_TD_Slope_min', 'TEMP_TD_Slope_max', 'TEMP_TD_Slope_mean',\n",
       "       'TEMP_TD_Slope', 'EDA_TD_P_Mean', 'EDA_TD_P_Median', 'EDA_TD_P_std',\n",
       "       'EDA_TD_P_Min', 'EDA_TD_P_Max', 'EDA_TD_P_AUC', 'EDA_TD_P_Kurtosis',\n",
       "       'EDA_TD_P_Skew', 'EDA_TD_P_Slope_min', 'EDA_TD_P_Slope_max',\n",
       "       'EDA_TD_P_Slope_mean', 'EDA_TD_P_Slope', 'EDA_TD_T_Mean',\n",
       "       'EDA_TD_T_Median', 'EDA_TD_T_std', 'EDA_TD_T_Min', 'EDA_TD_T_Max',\n",
       "       'EDA_TD_T_AUC', 'EDA_TD_T_Kurtosis', 'EDA_TD_T_Skew',\n",
       "       'EDA_TD_T_Slope_min', 'EDA_TD_T_Slope_max', 'EDA_TD_T_Slope_mean',\n",
       "       'EDA_TD_T_Slope', 'EDA_TD_P_Peaks', 'EDA_TD_P_RT', 'EDA_TD_P_ReT',\n",
       "       'Round', 'Phase', 'Individual', 'Puzzler', 'original_ID',\n",
       "       'raw_data_path', 'Team_ID', 'Frustrated', 'Cohort', 'upset', 'hostile',\n",
       "       'alert', 'ashamed', 'inspired', 'nervous', 'attentive', 'afraid',\n",
       "       'active', 'determined'],\n",
       "      dtype='object')"
      ]
     },
     "execution_count": 3,
     "metadata": {},
     "output_type": "execute_result"
    }
   ],
   "source": [
    "data.columns"
   ]
  },
  {
   "cell_type": "code",
   "execution_count": 4,
   "id": "835897a8",
   "metadata": {},
   "outputs": [],
   "source": [
    "dir_path = data['raw_data_path'][0]"
   ]
  },
  {
   "cell_type": "code",
   "execution_count": 5,
   "id": "a0eee201",
   "metadata": {},
   "outputs": [
    {
     "data": {
      "text/html": [
       "<div>\n",
       "<style scoped>\n",
       "    .dataframe tbody tr th:only-of-type {\n",
       "        vertical-align: middle;\n",
       "    }\n",
       "\n",
       "    .dataframe tbody tr th {\n",
       "        vertical-align: top;\n",
       "    }\n",
       "\n",
       "    .dataframe thead th {\n",
       "        text-align: right;\n",
       "    }\n",
       "</style>\n",
       "<table border=\"1\" class=\"dataframe\">\n",
       "  <thead>\n",
       "    <tr style=\"text-align: right;\">\n",
       "      <th></th>\n",
       "      <th>HR</th>\n",
       "      <th>time</th>\n",
       "    </tr>\n",
       "  </thead>\n",
       "  <tbody>\n",
       "    <tr>\n",
       "      <th>0</th>\n",
       "      <td>71.93</td>\n",
       "      <td>2022-10-26 16:41:36</td>\n",
       "    </tr>\n",
       "    <tr>\n",
       "      <th>1</th>\n",
       "      <td>72.23</td>\n",
       "      <td>2022-10-26 16:41:37</td>\n",
       "    </tr>\n",
       "    <tr>\n",
       "      <th>2</th>\n",
       "      <td>72.48</td>\n",
       "      <td>2022-10-26 16:41:38</td>\n",
       "    </tr>\n",
       "    <tr>\n",
       "      <th>3</th>\n",
       "      <td>72.53</td>\n",
       "      <td>2022-10-26 16:41:39</td>\n",
       "    </tr>\n",
       "    <tr>\n",
       "      <th>4</th>\n",
       "      <td>72.60</td>\n",
       "      <td>2022-10-26 16:41:40</td>\n",
       "    </tr>\n",
       "    <tr>\n",
       "      <th>...</th>\n",
       "      <td>...</td>\n",
       "      <td>...</td>\n",
       "    </tr>\n",
       "    <tr>\n",
       "      <th>289</th>\n",
       "      <td>86.28</td>\n",
       "      <td>2022-10-26 16:46:25</td>\n",
       "    </tr>\n",
       "    <tr>\n",
       "      <th>290</th>\n",
       "      <td>86.18</td>\n",
       "      <td>2022-10-26 16:46:26</td>\n",
       "    </tr>\n",
       "    <tr>\n",
       "      <th>291</th>\n",
       "      <td>85.97</td>\n",
       "      <td>2022-10-26 16:46:27</td>\n",
       "    </tr>\n",
       "    <tr>\n",
       "      <th>292</th>\n",
       "      <td>85.82</td>\n",
       "      <td>2022-10-26 16:46:28</td>\n",
       "    </tr>\n",
       "    <tr>\n",
       "      <th>293</th>\n",
       "      <td>85.53</td>\n",
       "      <td>2022-10-26 16:46:29</td>\n",
       "    </tr>\n",
       "  </tbody>\n",
       "</table>\n",
       "<p>294 rows × 2 columns</p>\n",
       "</div>"
      ],
      "text/plain": [
       "        HR                 time\n",
       "0    71.93  2022-10-26 16:41:36\n",
       "1    72.23  2022-10-26 16:41:37\n",
       "2    72.48  2022-10-26 16:41:38\n",
       "3    72.53  2022-10-26 16:41:39\n",
       "4    72.60  2022-10-26 16:41:40\n",
       "..     ...                  ...\n",
       "289  86.28  2022-10-26 16:46:25\n",
       "290  86.18  2022-10-26 16:46:26\n",
       "291  85.97  2022-10-26 16:46:27\n",
       "292  85.82  2022-10-26 16:46:28\n",
       "293  85.53  2022-10-26 16:46:29\n",
       "\n",
       "[294 rows x 2 columns]"
      ]
     },
     "execution_count": 5,
     "metadata": {},
     "output_type": "execute_result"
    }
   ],
   "source": [
    "hr = pd.read_csv('data/' + dir_path + '/HR.csv', header=0, index_col=0, parse_dates=True)\n",
    "hr\n"
   ]
  },
  {
   "cell_type": "code",
   "execution_count": null,
   "id": "24b97500",
   "metadata": {},
   "outputs": [],
   "source": []
  },
  {
   "cell_type": "code",
   "execution_count": null,
   "id": "ab6892d2",
   "metadata": {},
   "outputs": [
    {
     "name": "stderr",
     "output_type": "stream",
     "text": [
      "/home/khalil/miniconda3/envs/env_works/lib/python3.10/site-packages/etna/settings.py:51: UserWarning: etna[chronos] is not available, to install it, run `pip install etna[chronos]`\n",
      "  warnings.warn(\"etna[chronos] is not available, to install it, run `pip install etna[chronos]`\")\n",
      "/home/khalil/miniconda3/envs/env_works/lib/python3.10/site-packages/etna/settings.py:66: UserWarning: etna[timesfm] is not available, to install it, run `pip install etna[timesfm]`\n",
      "  warnings.warn(\"etna[timesfm] is not available, to install it, run `pip install etna[timesfm]`\")\n",
      "/home/khalil/miniconda3/envs/env_works/lib/python3.10/site-packages/etna/settings.py:82: UserWarning: etna[prophet] is not available, to install it, run `pip install etna[prophet]`\n",
      "  warnings.warn(\"etna[prophet] is not available, to install it, run `pip install etna[prophet]`\")\n",
      "/home/khalil/miniconda3/envs/env_works/lib/python3.10/site-packages/etna/settings.py:91: UserWarning: etna[classification] is not available, to install it, run `pip install etna[classification]`\n",
      "  warnings.warn(\"etna[classification] is not available, to install it, run `pip install etna[classification]`\")\n",
      "/home/khalil/miniconda3/envs/env_works/lib/python3.10/site-packages/etna/settings.py:108: UserWarning: etna[statsforecast] is not available, to install it, run `pip install etna[statsforecast]`\n",
      "  warnings.warn(\"etna[statsforecast] is not available, to install it, run `pip install etna[statsforecast]`\")\n",
      "/home/khalil/miniconda3/envs/env_works/lib/python3.10/site-packages/etna/transforms/embeddings/models/ts2vec.py:311: UserWarning: Path /home/khalil/.etna/embeddings/ts2vec/ts2vec_tiny.zip already exists. Model ts2vec_tiny will not be downloaded. Loading existing local model.\n",
      "  warnings.warn(\n"
     ]
    },
    {
     "name": "stdout",
     "output_type": "stream",
     "text": [
      "['ts2vec_tiny']\n"
     ]
    },
    {
     "name": "stderr",
     "output_type": "stream",
     "text": [
      "100%|██████████| 312/312 [00:47<00:00,  6.57it/s]\n",
      " 32%|███▏      | 99/312 [00:17<02:02,  1.74it/s]"
     ]
    }
   ],
   "source": [
    "from etna.transforms.embeddings.models import TS2VecEmbeddingModel\n",
    "\n",
    "# List available pretrained models\n",
    "available_models = TS2VecEmbeddingModel.list_models()\n",
    "print(available_models)\n",
    "\n",
    "# Load a specific pretrained model\n",
    "model = TS2VecEmbeddingModel.load(model_name='ts2vec_tiny')\n",
    "model.embedding_model.batch_size = 1\n",
    "\n",
    "def get_embeddings(dir_path,model,signal):\n",
    "    # Filenames and labels\n",
    "    file_info = {\n",
    "        \"HR\": \"HR.csv\",\n",
    "        \"EDA\": \"EDA.csv\",\n",
    "        \"BVP\": \"BVP.csv\",\n",
    "        \"TEMP\": \"TEMP.csv\"\n",
    "    }\n",
    "\n",
    "    # Store processed dataframes here\n",
    "    processed_dfs = {}\n",
    "\n",
    "    for signal_name, filename in file_info.items():\n",
    "        # Load and parse time\n",
    "        df = pd.read_csv('data/' + dir_path + '/'+ filename, parse_dates=[\"time\"])\n",
    "        \n",
    "        # Convert to relative time in seconds\n",
    "        df[\"t_seconds\"] = (df[\"time\"] - df[\"time\"].iloc[0]).dt.total_seconds()\n",
    "        \n",
    "        # Drop original time\n",
    "        df = df.drop(columns=[\"time\"])\n",
    "        \n",
    "        # Move t_seconds to the front if preferred\n",
    "        cols = [col for col in df.columns if col != \"t_seconds\"]\n",
    "        df = df[[\"t_seconds\"] + cols]\n",
    "        \n",
    "        # Store and display\n",
    "        processed_dfs[signal_name] = df\n",
    "\n",
    "\n",
    "    #join processed dataframes\n",
    "    hr = processed_dfs['HR']\n",
    "    eda = processed_dfs['EDA']\n",
    "    bvp = processed_dfs['BVP']\n",
    "    temp = processed_dfs['TEMP']\n",
    "\n",
    "    #drop unnamed:0\n",
    "    hr = hr.drop(columns=['Unnamed: 0'])\n",
    "    eda = eda.drop(columns=['Unnamed: 0'])\n",
    "    bvp = bvp.drop(columns=['Unnamed: 0'])\n",
    "    temp = temp.drop(columns=['Unnamed: 0'])\n",
    "\n",
    "    #join dataframes\n",
    "    hr_eda = pd.merge(hr, eda, on='t_seconds', how='outer')\n",
    "    hr_eda_bvp = pd.merge(hr_eda, bvp, on='t_seconds', how='outer')\n",
    "    hr_eda_bvp_temp = pd.merge(hr_eda_bvp, temp, on='t_seconds', how='outer')\n",
    "    #rename columns\n",
    "    #interpolate missing values\n",
    "    hr_eda_bvp_temp = hr_eda_bvp_temp.rename(columns={'HR': 'HR', 'EDA': 'EDA', 'BVP': 'BVP', 'TEMP': 'TEMP'})\n",
    "    hr_eda_bvp_temp = hr_eda_bvp_temp.interpolate(method='linear', limit_direction='both')\n",
    "\n",
    "    #select column using signal\n",
    "    dat_1 = hr_eda_bvp_temp[signal].to_numpy()  # shape: (T,)\n",
    "    dat_1 = dat_1[None, :, None]\n",
    "    return model.embedding_model.encode(dat_1)\n",
    "\n",
    "from tqdm import tqdm\n",
    "# for each signal in data get embeddings using 'raw_data_path' and save as new column in csv\n",
    "def get_embeddings_and_save(data,model,signal=\"HR\"):\n",
    "    data[signal + '_embeddings'] = None\n",
    "    for i in tqdm(range(len(data))):\n",
    "        dir_path = data['raw_data_path'][i]\n",
    "        embeddings = get_embeddings(dir_path,model,signal)\n",
    "        data.at[i, signal + '_embeddings'] = embeddings.tolist()\n",
    "\n",
    "    return data\n",
    "# get embeddings and save to csv\n",
    "\n",
    "data = get_embeddings_and_save(data,model,signal=\"HR\")\n",
    "data = get_embeddings_and_save(data,model,signal=\"EDA\")\n",
    "data = get_embeddings_and_save(data,model,signal=\"BVP\")\n",
    "data = get_embeddings_and_save(data,model,signal=\"TEMP\")\n",
    "\n"
   ]
  },
  {
   "cell_type": "code",
   "execution_count": 27,
   "id": "34cfb731",
   "metadata": {},
   "outputs": [],
   "source": [
    "## saving crashes my pc bcs of memory issues saving the data as csv text\n",
    "##save data as csv under name 'HR_data_2_embeddings.csv' \n",
    "#data.to_csv('data/HR_data_2_embeddings.csv', index=False)\n",
    "\n",
    "#use ast literal_eval to convert string to list\n",
    "#import ast\n",
    "#data['HR_embeddings'] = data['HR_embeddings'].apply(ast.literal_eval)\n",
    "#data['EDA_embeddings'] = data['EDA_embeddings'].apply(ast.literal_eval)\n",
    "#data['BVP_embeddings'] = data['BVP_embeddings'].apply(ast.literal_eval)\n",
    "#data['TEMP_embeddings'] = data['TEMP_embeddings'].apply(ast.literal_eval)"
   ]
  },
  {
   "cell_type": "code",
   "execution_count": 28,
   "id": "0e92da88",
   "metadata": {},
   "outputs": [
    {
     "ename": "ValueError",
     "evalue": "malformed node or string on line 1: <ast.Call object at 0x74fed23bba60>",
     "output_type": "error",
     "traceback": [
      "\u001b[0;31m---------------------------------------------------------------------------\u001b[0m",
      "\u001b[0;31mValueError\u001b[0m                                Traceback (most recent call last)",
      "Cell \u001b[0;32mIn[28], line 6\u001b[0m\n\u001b[1;32m      3\u001b[0m data \u001b[38;5;241m=\u001b[39m pd\u001b[38;5;241m.\u001b[39mread_csv(\u001b[38;5;124m'\u001b[39m\u001b[38;5;124mdata/HR_data_2_embeddings.csv\u001b[39m\u001b[38;5;124m'\u001b[39m)\n\u001b[1;32m      5\u001b[0m \u001b[38;5;66;03m#convert string representation of list to list\u001b[39;00m\n\u001b[0;32m----> 6\u001b[0m data[\u001b[38;5;124m'\u001b[39m\u001b[38;5;124mHR_embeddings\u001b[39m\u001b[38;5;124m'\u001b[39m] \u001b[38;5;241m=\u001b[39m \u001b[43mdata\u001b[49m\u001b[43m[\u001b[49m\u001b[38;5;124;43m'\u001b[39;49m\u001b[38;5;124;43mHR_embeddings\u001b[39;49m\u001b[38;5;124;43m'\u001b[39;49m\u001b[43m]\u001b[49m\u001b[38;5;241;43m.\u001b[39;49m\u001b[43mapply\u001b[49m\u001b[43m(\u001b[49m\u001b[43mast\u001b[49m\u001b[38;5;241;43m.\u001b[39;49m\u001b[43mliteral_eval\u001b[49m\u001b[43m)\u001b[49m\n\u001b[1;32m      7\u001b[0m data[\u001b[38;5;124m'\u001b[39m\u001b[38;5;124mTEMP_embeddings\u001b[39m\u001b[38;5;124m'\u001b[39m] \u001b[38;5;241m=\u001b[39m data[\u001b[38;5;124m'\u001b[39m\u001b[38;5;124mTEMP_embeddings\u001b[39m\u001b[38;5;124m'\u001b[39m]\u001b[38;5;241m.\u001b[39mapply(ast\u001b[38;5;241m.\u001b[39mliteral_eval)\n\u001b[1;32m      8\u001b[0m data[\u001b[38;5;124m'\u001b[39m\u001b[38;5;124mEDA_embeddings\u001b[39m\u001b[38;5;124m'\u001b[39m] \u001b[38;5;241m=\u001b[39m data[\u001b[38;5;124m'\u001b[39m\u001b[38;5;124mEDA_embeddings\u001b[39m\u001b[38;5;124m'\u001b[39m]\u001b[38;5;241m.\u001b[39mapply(ast\u001b[38;5;241m.\u001b[39mliteral_eval)\n",
      "File \u001b[0;32m~/miniconda3/envs/env_works/lib/python3.10/site-packages/pandas/core/series.py:4771\u001b[0m, in \u001b[0;36mSeries.apply\u001b[0;34m(self, func, convert_dtype, args, **kwargs)\u001b[0m\n\u001b[1;32m   4661\u001b[0m \u001b[38;5;28;01mdef\u001b[39;00m \u001b[38;5;21mapply\u001b[39m(\n\u001b[1;32m   4662\u001b[0m     \u001b[38;5;28mself\u001b[39m,\n\u001b[1;32m   4663\u001b[0m     func: AggFuncType,\n\u001b[0;32m   (...)\u001b[0m\n\u001b[1;32m   4666\u001b[0m     \u001b[38;5;241m*\u001b[39m\u001b[38;5;241m*\u001b[39mkwargs,\n\u001b[1;32m   4667\u001b[0m ) \u001b[38;5;241m-\u001b[39m\u001b[38;5;241m>\u001b[39m DataFrame \u001b[38;5;241m|\u001b[39m Series:\n\u001b[1;32m   4668\u001b[0m \u001b[38;5;250m    \u001b[39m\u001b[38;5;124;03m\"\"\"\u001b[39;00m\n\u001b[1;32m   4669\u001b[0m \u001b[38;5;124;03m    Invoke function on values of Series.\u001b[39;00m\n\u001b[1;32m   4670\u001b[0m \n\u001b[0;32m   (...)\u001b[0m\n\u001b[1;32m   4769\u001b[0m \u001b[38;5;124;03m    dtype: float64\u001b[39;00m\n\u001b[1;32m   4770\u001b[0m \u001b[38;5;124;03m    \"\"\"\u001b[39;00m\n\u001b[0;32m-> 4771\u001b[0m     \u001b[38;5;28;01mreturn\u001b[39;00m \u001b[43mSeriesApply\u001b[49m\u001b[43m(\u001b[49m\u001b[38;5;28;43mself\u001b[39;49m\u001b[43m,\u001b[49m\u001b[43m \u001b[49m\u001b[43mfunc\u001b[49m\u001b[43m,\u001b[49m\u001b[43m \u001b[49m\u001b[43mconvert_dtype\u001b[49m\u001b[43m,\u001b[49m\u001b[43m \u001b[49m\u001b[43margs\u001b[49m\u001b[43m,\u001b[49m\u001b[43m \u001b[49m\u001b[43mkwargs\u001b[49m\u001b[43m)\u001b[49m\u001b[38;5;241;43m.\u001b[39;49m\u001b[43mapply\u001b[49m\u001b[43m(\u001b[49m\u001b[43m)\u001b[49m\n",
      "File \u001b[0;32m~/miniconda3/envs/env_works/lib/python3.10/site-packages/pandas/core/apply.py:1123\u001b[0m, in \u001b[0;36mSeriesApply.apply\u001b[0;34m(self)\u001b[0m\n\u001b[1;32m   1120\u001b[0m     \u001b[38;5;28;01mreturn\u001b[39;00m \u001b[38;5;28mself\u001b[39m\u001b[38;5;241m.\u001b[39mapply_str()\n\u001b[1;32m   1122\u001b[0m \u001b[38;5;66;03m# self.f is Callable\u001b[39;00m\n\u001b[0;32m-> 1123\u001b[0m \u001b[38;5;28;01mreturn\u001b[39;00m \u001b[38;5;28;43mself\u001b[39;49m\u001b[38;5;241;43m.\u001b[39;49m\u001b[43mapply_standard\u001b[49m\u001b[43m(\u001b[49m\u001b[43m)\u001b[49m\n",
      "File \u001b[0;32m~/miniconda3/envs/env_works/lib/python3.10/site-packages/pandas/core/apply.py:1174\u001b[0m, in \u001b[0;36mSeriesApply.apply_standard\u001b[0;34m(self)\u001b[0m\n\u001b[1;32m   1172\u001b[0m     \u001b[38;5;28;01melse\u001b[39;00m:\n\u001b[1;32m   1173\u001b[0m         values \u001b[38;5;241m=\u001b[39m obj\u001b[38;5;241m.\u001b[39mastype(\u001b[38;5;28mobject\u001b[39m)\u001b[38;5;241m.\u001b[39m_values\n\u001b[0;32m-> 1174\u001b[0m         mapped \u001b[38;5;241m=\u001b[39m \u001b[43mlib\u001b[49m\u001b[38;5;241;43m.\u001b[39;49m\u001b[43mmap_infer\u001b[49m\u001b[43m(\u001b[49m\n\u001b[1;32m   1175\u001b[0m \u001b[43m            \u001b[49m\u001b[43mvalues\u001b[49m\u001b[43m,\u001b[49m\n\u001b[1;32m   1176\u001b[0m \u001b[43m            \u001b[49m\u001b[43mf\u001b[49m\u001b[43m,\u001b[49m\n\u001b[1;32m   1177\u001b[0m \u001b[43m            \u001b[49m\u001b[43mconvert\u001b[49m\u001b[38;5;241;43m=\u001b[39;49m\u001b[38;5;28;43mself\u001b[39;49m\u001b[38;5;241;43m.\u001b[39;49m\u001b[43mconvert_dtype\u001b[49m\u001b[43m,\u001b[49m\n\u001b[1;32m   1178\u001b[0m \u001b[43m        \u001b[49m\u001b[43m)\u001b[49m\n\u001b[1;32m   1180\u001b[0m \u001b[38;5;28;01mif\u001b[39;00m \u001b[38;5;28mlen\u001b[39m(mapped) \u001b[38;5;129;01mand\u001b[39;00m \u001b[38;5;28misinstance\u001b[39m(mapped[\u001b[38;5;241m0\u001b[39m], ABCSeries):\n\u001b[1;32m   1181\u001b[0m     \u001b[38;5;66;03m# GH#43986 Need to do list(mapped) in order to get treated as nested\u001b[39;00m\n\u001b[1;32m   1182\u001b[0m     \u001b[38;5;66;03m#  See also GH#25959 regarding EA support\u001b[39;00m\n\u001b[1;32m   1183\u001b[0m     \u001b[38;5;28;01mreturn\u001b[39;00m obj\u001b[38;5;241m.\u001b[39m_constructor_expanddim(\u001b[38;5;28mlist\u001b[39m(mapped), index\u001b[38;5;241m=\u001b[39mobj\u001b[38;5;241m.\u001b[39mindex)\n",
      "File \u001b[0;32m~/miniconda3/envs/env_works/lib/python3.10/site-packages/pandas/_libs/lib.pyx:2924\u001b[0m, in \u001b[0;36mpandas._libs.lib.map_infer\u001b[0;34m()\u001b[0m\n",
      "File \u001b[0;32m~/miniconda3/envs/env_works/lib/python3.10/ast.py:110\u001b[0m, in \u001b[0;36mliteral_eval\u001b[0;34m(node_or_string)\u001b[0m\n\u001b[1;32m    108\u001b[0m                 \u001b[38;5;28;01mreturn\u001b[39;00m left \u001b[38;5;241m-\u001b[39m right\n\u001b[1;32m    109\u001b[0m     \u001b[38;5;28;01mreturn\u001b[39;00m _convert_signed_num(node)\n\u001b[0;32m--> 110\u001b[0m \u001b[38;5;28;01mreturn\u001b[39;00m \u001b[43m_convert\u001b[49m\u001b[43m(\u001b[49m\u001b[43mnode_or_string\u001b[49m\u001b[43m)\u001b[49m\n",
      "File \u001b[0;32m~/miniconda3/envs/env_works/lib/python3.10/ast.py:90\u001b[0m, in \u001b[0;36mliteral_eval.<locals>._convert\u001b[0;34m(node)\u001b[0m\n\u001b[1;32m     88\u001b[0m     \u001b[38;5;28;01mreturn\u001b[39;00m \u001b[38;5;28mtuple\u001b[39m(\u001b[38;5;28mmap\u001b[39m(_convert, node\u001b[38;5;241m.\u001b[39melts))\n\u001b[1;32m     89\u001b[0m \u001b[38;5;28;01melif\u001b[39;00m \u001b[38;5;28misinstance\u001b[39m(node, List):\n\u001b[0;32m---> 90\u001b[0m     \u001b[38;5;28;01mreturn\u001b[39;00m \u001b[38;5;28;43mlist\u001b[39;49m\u001b[43m(\u001b[49m\u001b[38;5;28;43mmap\u001b[39;49m\u001b[43m(\u001b[49m\u001b[43m_convert\u001b[49m\u001b[43m,\u001b[49m\u001b[43m \u001b[49m\u001b[43mnode\u001b[49m\u001b[38;5;241;43m.\u001b[39;49m\u001b[43melts\u001b[49m\u001b[43m)\u001b[49m\u001b[43m)\u001b[49m\n\u001b[1;32m     91\u001b[0m \u001b[38;5;28;01melif\u001b[39;00m \u001b[38;5;28misinstance\u001b[39m(node, Set):\n\u001b[1;32m     92\u001b[0m     \u001b[38;5;28;01mreturn\u001b[39;00m \u001b[38;5;28mset\u001b[39m(\u001b[38;5;28mmap\u001b[39m(_convert, node\u001b[38;5;241m.\u001b[39melts))\n",
      "File \u001b[0;32m~/miniconda3/envs/env_works/lib/python3.10/ast.py:109\u001b[0m, in \u001b[0;36mliteral_eval.<locals>._convert\u001b[0;34m(node)\u001b[0m\n\u001b[1;32m    107\u001b[0m         \u001b[38;5;28;01melse\u001b[39;00m:\n\u001b[1;32m    108\u001b[0m             \u001b[38;5;28;01mreturn\u001b[39;00m left \u001b[38;5;241m-\u001b[39m right\n\u001b[0;32m--> 109\u001b[0m \u001b[38;5;28;01mreturn\u001b[39;00m \u001b[43m_convert_signed_num\u001b[49m\u001b[43m(\u001b[49m\u001b[43mnode\u001b[49m\u001b[43m)\u001b[49m\n",
      "File \u001b[0;32m~/miniconda3/envs/env_works/lib/python3.10/ast.py:83\u001b[0m, in \u001b[0;36mliteral_eval.<locals>._convert_signed_num\u001b[0;34m(node)\u001b[0m\n\u001b[1;32m     81\u001b[0m     \u001b[38;5;28;01melse\u001b[39;00m:\n\u001b[1;32m     82\u001b[0m         \u001b[38;5;28;01mreturn\u001b[39;00m \u001b[38;5;241m-\u001b[39m operand\n\u001b[0;32m---> 83\u001b[0m \u001b[38;5;28;01mreturn\u001b[39;00m \u001b[43m_convert_num\u001b[49m\u001b[43m(\u001b[49m\u001b[43mnode\u001b[49m\u001b[43m)\u001b[49m\n",
      "File \u001b[0;32m~/miniconda3/envs/env_works/lib/python3.10/ast.py:74\u001b[0m, in \u001b[0;36mliteral_eval.<locals>._convert_num\u001b[0;34m(node)\u001b[0m\n\u001b[1;32m     72\u001b[0m \u001b[38;5;28;01mdef\u001b[39;00m \u001b[38;5;21m_convert_num\u001b[39m(node):\n\u001b[1;32m     73\u001b[0m     \u001b[38;5;28;01mif\u001b[39;00m \u001b[38;5;129;01mnot\u001b[39;00m \u001b[38;5;28misinstance\u001b[39m(node, Constant) \u001b[38;5;129;01mor\u001b[39;00m \u001b[38;5;28mtype\u001b[39m(node\u001b[38;5;241m.\u001b[39mvalue) \u001b[38;5;129;01mnot\u001b[39;00m \u001b[38;5;129;01min\u001b[39;00m (\u001b[38;5;28mint\u001b[39m, \u001b[38;5;28mfloat\u001b[39m, \u001b[38;5;28mcomplex\u001b[39m):\n\u001b[0;32m---> 74\u001b[0m         \u001b[43m_raise_malformed_node\u001b[49m\u001b[43m(\u001b[49m\u001b[43mnode\u001b[49m\u001b[43m)\u001b[49m\n\u001b[1;32m     75\u001b[0m     \u001b[38;5;28;01mreturn\u001b[39;00m node\u001b[38;5;241m.\u001b[39mvalue\n",
      "File \u001b[0;32m~/miniconda3/envs/env_works/lib/python3.10/ast.py:71\u001b[0m, in \u001b[0;36mliteral_eval.<locals>._raise_malformed_node\u001b[0;34m(node)\u001b[0m\n\u001b[1;32m     69\u001b[0m \u001b[38;5;28;01mif\u001b[39;00m lno \u001b[38;5;241m:=\u001b[39m \u001b[38;5;28mgetattr\u001b[39m(node, \u001b[38;5;124m'\u001b[39m\u001b[38;5;124mlineno\u001b[39m\u001b[38;5;124m'\u001b[39m, \u001b[38;5;28;01mNone\u001b[39;00m):\n\u001b[1;32m     70\u001b[0m     msg \u001b[38;5;241m+\u001b[39m\u001b[38;5;241m=\u001b[39m \u001b[38;5;124mf\u001b[39m\u001b[38;5;124m'\u001b[39m\u001b[38;5;124m on line \u001b[39m\u001b[38;5;132;01m{\u001b[39;00mlno\u001b[38;5;132;01m}\u001b[39;00m\u001b[38;5;124m'\u001b[39m\n\u001b[0;32m---> 71\u001b[0m \u001b[38;5;28;01mraise\u001b[39;00m \u001b[38;5;167;01mValueError\u001b[39;00m(msg \u001b[38;5;241m+\u001b[39m \u001b[38;5;124mf\u001b[39m\u001b[38;5;124m'\u001b[39m\u001b[38;5;124m: \u001b[39m\u001b[38;5;132;01m{\u001b[39;00mnode\u001b[38;5;132;01m!r}\u001b[39;00m\u001b[38;5;124m'\u001b[39m)\n",
      "\u001b[0;31mValueError\u001b[0m: malformed node or string on line 1: <ast.Call object at 0x74fed23bba60>"
     ]
    }
   ],
   "source": [
    "\n",
    "np.stack((data['HR_embeddings'].to_numpy(),data['TEMP_embeddings'].to_numpy(),data['EDA_embeddings'].to_numpy(),data['BVP_embeddings'].to_numpy())).shape"
   ]
  },
  {
   "cell_type": "code",
   "execution_count": null,
   "id": "4bb8e745",
   "metadata": {},
   "outputs": [],
   "source": []
  },
  {
   "cell_type": "code",
   "execution_count": 7,
   "id": "7bcbd3b1",
   "metadata": {},
   "outputs": [
    {
     "ename": "NameError",
     "evalue": "name 'embeddings' is not defined",
     "output_type": "error",
     "traceback": [
      "\u001b[0;31m---------------------------------------------------------------------------\u001b[0m",
      "\u001b[0;31mNameError\u001b[0m                                 Traceback (most recent call last)",
      "Cell \u001b[0;32mIn[7], line 6\u001b[0m\n\u001b[1;32m      3\u001b[0m \u001b[38;5;28;01mfrom\u001b[39;00m \u001b[38;5;21;01msklearn\u001b[39;00m\u001b[38;5;21;01m.\u001b[39;00m\u001b[38;5;21;01mmetrics\u001b[39;00m \u001b[38;5;28;01mimport\u001b[39;00m mean_squared_error\n\u001b[1;32m      5\u001b[0m \u001b[38;5;66;03m# Train/test split\u001b[39;00m\n\u001b[0;32m----> 6\u001b[0m X_train, X_test, y_train, y_test \u001b[38;5;241m=\u001b[39m train_test_split(\u001b[43membeddings\u001b[49m, y, test_size\u001b[38;5;241m=\u001b[39m\u001b[38;5;241m0.2\u001b[39m, random_state\u001b[38;5;241m=\u001b[39m\u001b[38;5;241m42\u001b[39m)\n\u001b[1;32m      8\u001b[0m \u001b[38;5;66;03m# Fit regression model\u001b[39;00m\n\u001b[1;32m      9\u001b[0m reg \u001b[38;5;241m=\u001b[39m LinearRegression()\n",
      "\u001b[0;31mNameError\u001b[0m: name 'embeddings' is not defined"
     ]
    }
   ],
   "source": [
    "from sklearn.linear_model import LinearRegression\n",
    "from sklearn.model_selection import train_test_split\n",
    "from sklearn.metrics import mean_squared_error\n",
    "\n",
    "# Train/test split\n",
    "X_train, X_test, y_train, y_test = train_test_split(embeddings, y, test_size=0.2, random_state=42)\n",
    "\n",
    "# Fit regression model\n",
    "reg = LinearRegression()\n",
    "reg.fit(X_train, y_train)\n",
    "\n",
    "# Predict and evaluate\n",
    "y_pred = reg.predict(X_test)\n",
    "print(\"MSE:\", mean_squared_error(y_test, y_pred))\n"
   ]
  },
  {
   "cell_type": "code",
   "execution_count": 41,
   "id": "bfc85613",
   "metadata": {},
   "outputs": [],
   "source": []
  },
  {
   "cell_type": "code",
   "execution_count": 42,
   "id": "f75fcfea",
   "metadata": {},
   "outputs": [
    {
     "data": {
      "text/html": [
       "<div>\n",
       "<style scoped>\n",
       "    .dataframe tbody tr th:only-of-type {\n",
       "        vertical-align: middle;\n",
       "    }\n",
       "\n",
       "    .dataframe tbody tr th {\n",
       "        vertical-align: top;\n",
       "    }\n",
       "\n",
       "    .dataframe thead th {\n",
       "        text-align: right;\n",
       "    }\n",
       "</style>\n",
       "<table border=\"1\" class=\"dataframe\">\n",
       "  <thead>\n",
       "    <tr style=\"text-align: right;\">\n",
       "      <th></th>\n",
       "      <th>Unnamed: 0</th>\n",
       "      <th>HR_TD_Mean</th>\n",
       "      <th>HR_TD_Median</th>\n",
       "      <th>HR_TD_std</th>\n",
       "      <th>HR_TD_Min</th>\n",
       "      <th>HR_TD_Max</th>\n",
       "      <th>HR_TD_AUC</th>\n",
       "      <th>HR_TD_Kurtosis</th>\n",
       "      <th>HR_TD_Skew</th>\n",
       "      <th>HR_TD_Slope_min</th>\n",
       "      <th>...</th>\n",
       "      <th>hostile</th>\n",
       "      <th>alert</th>\n",
       "      <th>ashamed</th>\n",
       "      <th>inspired</th>\n",
       "      <th>nervous</th>\n",
       "      <th>attentive</th>\n",
       "      <th>afraid</th>\n",
       "      <th>active</th>\n",
       "      <th>determined</th>\n",
       "      <th>embeddings</th>\n",
       "    </tr>\n",
       "  </thead>\n",
       "  <tbody>\n",
       "    <tr>\n",
       "      <th>0</th>\n",
       "      <td>0</td>\n",
       "      <td>78.663878</td>\n",
       "      <td>76.700</td>\n",
       "      <td>7.480043</td>\n",
       "      <td>67.25</td>\n",
       "      <td>92.48</td>\n",
       "      <td>23048.450</td>\n",
       "      <td>-1.091448</td>\n",
       "      <td>0.369955</td>\n",
       "      <td>-0.730000</td>\n",
       "      <td>...</td>\n",
       "      <td>1.0</td>\n",
       "      <td>2.0</td>\n",
       "      <td>1.0</td>\n",
       "      <td>2.0</td>\n",
       "      <td>2.0</td>\n",
       "      <td>3.0</td>\n",
       "      <td>1.0</td>\n",
       "      <td>2.0</td>\n",
       "      <td>2.0</td>\n",
       "      <td>[[[-0.05565757, -0.03793873, -0.04383092, -0.0...</td>\n",
       "    </tr>\n",
       "    <tr>\n",
       "      <th>1</th>\n",
       "      <td>1</td>\n",
       "      <td>76.540732</td>\n",
       "      <td>76.610</td>\n",
       "      <td>2.584756</td>\n",
       "      <td>69.82</td>\n",
       "      <td>82.33</td>\n",
       "      <td>23959.920</td>\n",
       "      <td>-0.245338</td>\n",
       "      <td>0.338732</td>\n",
       "      <td>-0.360000</td>\n",
       "      <td>...</td>\n",
       "      <td>1.0</td>\n",
       "      <td>3.0</td>\n",
       "      <td>2.0</td>\n",
       "      <td>2.0</td>\n",
       "      <td>2.0</td>\n",
       "      <td>3.0</td>\n",
       "      <td>1.0</td>\n",
       "      <td>3.0</td>\n",
       "      <td>3.0</td>\n",
       "      <td>[[[-0.05565757, -0.03793873, -0.04383092, -0.0...</td>\n",
       "    </tr>\n",
       "    <tr>\n",
       "      <th>2</th>\n",
       "      <td>2</td>\n",
       "      <td>78.173563</td>\n",
       "      <td>77.920</td>\n",
       "      <td>2.681255</td>\n",
       "      <td>72.22</td>\n",
       "      <td>82.80</td>\n",
       "      <td>20324.605</td>\n",
       "      <td>-0.615922</td>\n",
       "      <td>-0.233047</td>\n",
       "      <td>-0.630000</td>\n",
       "      <td>...</td>\n",
       "      <td>1.0</td>\n",
       "      <td>2.0</td>\n",
       "      <td>1.0</td>\n",
       "      <td>3.0</td>\n",
       "      <td>2.0</td>\n",
       "      <td>3.0</td>\n",
       "      <td>2.0</td>\n",
       "      <td>3.0</td>\n",
       "      <td>3.0</td>\n",
       "      <td>[[[-0.05565757, -0.03793873, -0.04383092, -0.0...</td>\n",
       "    </tr>\n",
       "    <tr>\n",
       "      <th>3</th>\n",
       "      <td>3</td>\n",
       "      <td>83.073688</td>\n",
       "      <td>83.880</td>\n",
       "      <td>7.363598</td>\n",
       "      <td>69.42</td>\n",
       "      <td>96.12</td>\n",
       "      <td>24924.300</td>\n",
       "      <td>-0.866610</td>\n",
       "      <td>-0.046021</td>\n",
       "      <td>-0.465000</td>\n",
       "      <td>...</td>\n",
       "      <td>1.0</td>\n",
       "      <td>2.0</td>\n",
       "      <td>1.0</td>\n",
       "      <td>3.0</td>\n",
       "      <td>2.0</td>\n",
       "      <td>3.0</td>\n",
       "      <td>2.0</td>\n",
       "      <td>3.0</td>\n",
       "      <td>3.0</td>\n",
       "      <td>[[[-0.05565757, -0.03793873, -0.04383092, -0.0...</td>\n",
       "    </tr>\n",
       "    <tr>\n",
       "      <th>4</th>\n",
       "      <td>4</td>\n",
       "      <td>72.281250</td>\n",
       "      <td>72.910</td>\n",
       "      <td>3.193762</td>\n",
       "      <td>64.95</td>\n",
       "      <td>79.98</td>\n",
       "      <td>23052.100</td>\n",
       "      <td>0.200401</td>\n",
       "      <td>-0.560948</td>\n",
       "      <td>-0.372500</td>\n",
       "      <td>...</td>\n",
       "      <td>1.0</td>\n",
       "      <td>3.0</td>\n",
       "      <td>2.0</td>\n",
       "      <td>3.0</td>\n",
       "      <td>3.0</td>\n",
       "      <td>4.0</td>\n",
       "      <td>2.0</td>\n",
       "      <td>4.0</td>\n",
       "      <td>4.0</td>\n",
       "      <td>[[[-0.05565757, -0.03793873, -0.04383092, -0.0...</td>\n",
       "    </tr>\n",
       "    <tr>\n",
       "      <th>...</th>\n",
       "      <td>...</td>\n",
       "      <td>...</td>\n",
       "      <td>...</td>\n",
       "      <td>...</td>\n",
       "      <td>...</td>\n",
       "      <td>...</td>\n",
       "      <td>...</td>\n",
       "      <td>...</td>\n",
       "      <td>...</td>\n",
       "      <td>...</td>\n",
       "      <td>...</td>\n",
       "      <td>...</td>\n",
       "      <td>...</td>\n",
       "      <td>...</td>\n",
       "      <td>...</td>\n",
       "      <td>...</td>\n",
       "      <td>...</td>\n",
       "      <td>...</td>\n",
       "      <td>...</td>\n",
       "      <td>...</td>\n",
       "      <td>...</td>\n",
       "    </tr>\n",
       "    <tr>\n",
       "      <th>307</th>\n",
       "      <td>307</td>\n",
       "      <td>82.019065</td>\n",
       "      <td>78.830</td>\n",
       "      <td>8.794206</td>\n",
       "      <td>69.73</td>\n",
       "      <td>97.18</td>\n",
       "      <td>26244.705</td>\n",
       "      <td>-1.386324</td>\n",
       "      <td>0.251382</td>\n",
       "      <td>-0.517500</td>\n",
       "      <td>...</td>\n",
       "      <td>2.0</td>\n",
       "      <td>2.0</td>\n",
       "      <td>1.0</td>\n",
       "      <td>1.0</td>\n",
       "      <td>1.0</td>\n",
       "      <td>1.0</td>\n",
       "      <td>1.0</td>\n",
       "      <td>3.0</td>\n",
       "      <td>1.0</td>\n",
       "      <td>[[[-0.05565757, -0.03793873, -0.04383092, -0.0...</td>\n",
       "    </tr>\n",
       "    <tr>\n",
       "      <th>308</th>\n",
       "      <td>308</td>\n",
       "      <td>103.274248</td>\n",
       "      <td>104.625</td>\n",
       "      <td>14.208117</td>\n",
       "      <td>68.13</td>\n",
       "      <td>125.52</td>\n",
       "      <td>31523.695</td>\n",
       "      <td>-0.338091</td>\n",
       "      <td>-0.521254</td>\n",
       "      <td>-0.962500</td>\n",
       "      <td>...</td>\n",
       "      <td>1.0</td>\n",
       "      <td>3.0</td>\n",
       "      <td>1.0</td>\n",
       "      <td>1.0</td>\n",
       "      <td>1.0</td>\n",
       "      <td>4.0</td>\n",
       "      <td>1.0</td>\n",
       "      <td>3.0</td>\n",
       "      <td>4.0</td>\n",
       "      <td>[[[-0.05565757, -0.03793873, -0.04383092, -0.0...</td>\n",
       "    </tr>\n",
       "    <tr>\n",
       "      <th>309</th>\n",
       "      <td>309</td>\n",
       "      <td>99.065000</td>\n",
       "      <td>97.490</td>\n",
       "      <td>10.079197</td>\n",
       "      <td>86.55</td>\n",
       "      <td>119.75</td>\n",
       "      <td>28235.230</td>\n",
       "      <td>-0.740136</td>\n",
       "      <td>0.629730</td>\n",
       "      <td>-0.657500</td>\n",
       "      <td>...</td>\n",
       "      <td>1.0</td>\n",
       "      <td>3.0</td>\n",
       "      <td>1.0</td>\n",
       "      <td>3.0</td>\n",
       "      <td>1.0</td>\n",
       "      <td>3.0</td>\n",
       "      <td>1.0</td>\n",
       "      <td>3.0</td>\n",
       "      <td>4.0</td>\n",
       "      <td>[[[-0.05565757, -0.03793873, -0.04383092, -0.0...</td>\n",
       "    </tr>\n",
       "    <tr>\n",
       "      <th>310</th>\n",
       "      <td>310</td>\n",
       "      <td>91.793354</td>\n",
       "      <td>97.180</td>\n",
       "      <td>19.234169</td>\n",
       "      <td>60.90</td>\n",
       "      <td>120.67</td>\n",
       "      <td>28909.835</td>\n",
       "      <td>-1.229115</td>\n",
       "      <td>-0.181431</td>\n",
       "      <td>-0.717500</td>\n",
       "      <td>...</td>\n",
       "      <td>1.0</td>\n",
       "      <td>3.0</td>\n",
       "      <td>1.0</td>\n",
       "      <td>3.0</td>\n",
       "      <td>1.0</td>\n",
       "      <td>4.0</td>\n",
       "      <td>1.0</td>\n",
       "      <td>4.0</td>\n",
       "      <td>4.0</td>\n",
       "      <td>[[[-0.05565757, -0.03793873, -0.04383092, -0.0...</td>\n",
       "    </tr>\n",
       "    <tr>\n",
       "      <th>311</th>\n",
       "      <td>311</td>\n",
       "      <td>95.207540</td>\n",
       "      <td>98.165</td>\n",
       "      <td>6.332748</td>\n",
       "      <td>84.38</td>\n",
       "      <td>104.42</td>\n",
       "      <td>23524.745</td>\n",
       "      <td>-1.206710</td>\n",
       "      <td>-0.436601</td>\n",
       "      <td>-0.673333</td>\n",
       "      <td>...</td>\n",
       "      <td>1.0</td>\n",
       "      <td>2.0</td>\n",
       "      <td>1.0</td>\n",
       "      <td>2.0</td>\n",
       "      <td>2.0</td>\n",
       "      <td>4.0</td>\n",
       "      <td>1.0</td>\n",
       "      <td>3.0</td>\n",
       "      <td>4.0</td>\n",
       "      <td>[[[-0.05565757, -0.03793873, -0.04383092, -0.0...</td>\n",
       "    </tr>\n",
       "  </tbody>\n",
       "</table>\n",
       "<p>312 rows × 72 columns</p>\n",
       "</div>"
      ],
      "text/plain": [
       "     Unnamed: 0  HR_TD_Mean  HR_TD_Median  HR_TD_std  HR_TD_Min  HR_TD_Max  \\\n",
       "0             0   78.663878        76.700   7.480043      67.25      92.48   \n",
       "1             1   76.540732        76.610   2.584756      69.82      82.33   \n",
       "2             2   78.173563        77.920   2.681255      72.22      82.80   \n",
       "3             3   83.073688        83.880   7.363598      69.42      96.12   \n",
       "4             4   72.281250        72.910   3.193762      64.95      79.98   \n",
       "..          ...         ...           ...        ...        ...        ...   \n",
       "307         307   82.019065        78.830   8.794206      69.73      97.18   \n",
       "308         308  103.274248       104.625  14.208117      68.13     125.52   \n",
       "309         309   99.065000        97.490  10.079197      86.55     119.75   \n",
       "310         310   91.793354        97.180  19.234169      60.90     120.67   \n",
       "311         311   95.207540        98.165   6.332748      84.38     104.42   \n",
       "\n",
       "     HR_TD_AUC  HR_TD_Kurtosis  HR_TD_Skew  HR_TD_Slope_min  ...  hostile  \\\n",
       "0    23048.450       -1.091448    0.369955        -0.730000  ...      1.0   \n",
       "1    23959.920       -0.245338    0.338732        -0.360000  ...      1.0   \n",
       "2    20324.605       -0.615922   -0.233047        -0.630000  ...      1.0   \n",
       "3    24924.300       -0.866610   -0.046021        -0.465000  ...      1.0   \n",
       "4    23052.100        0.200401   -0.560948        -0.372500  ...      1.0   \n",
       "..         ...             ...         ...              ...  ...      ...   \n",
       "307  26244.705       -1.386324    0.251382        -0.517500  ...      2.0   \n",
       "308  31523.695       -0.338091   -0.521254        -0.962500  ...      1.0   \n",
       "309  28235.230       -0.740136    0.629730        -0.657500  ...      1.0   \n",
       "310  28909.835       -1.229115   -0.181431        -0.717500  ...      1.0   \n",
       "311  23524.745       -1.206710   -0.436601        -0.673333  ...      1.0   \n",
       "\n",
       "     alert  ashamed  inspired  nervous  attentive  afraid  active  determined  \\\n",
       "0      2.0      1.0       2.0      2.0        3.0     1.0     2.0         2.0   \n",
       "1      3.0      2.0       2.0      2.0        3.0     1.0     3.0         3.0   \n",
       "2      2.0      1.0       3.0      2.0        3.0     2.0     3.0         3.0   \n",
       "3      2.0      1.0       3.0      2.0        3.0     2.0     3.0         3.0   \n",
       "4      3.0      2.0       3.0      3.0        4.0     2.0     4.0         4.0   \n",
       "..     ...      ...       ...      ...        ...     ...     ...         ...   \n",
       "307    2.0      1.0       1.0      1.0        1.0     1.0     3.0         1.0   \n",
       "308    3.0      1.0       1.0      1.0        4.0     1.0     3.0         4.0   \n",
       "309    3.0      1.0       3.0      1.0        3.0     1.0     3.0         4.0   \n",
       "310    3.0      1.0       3.0      1.0        4.0     1.0     4.0         4.0   \n",
       "311    2.0      1.0       2.0      2.0        4.0     1.0     3.0         4.0   \n",
       "\n",
       "                                            embeddings  \n",
       "0    [[[-0.05565757, -0.03793873, -0.04383092, -0.0...  \n",
       "1    [[[-0.05565757, -0.03793873, -0.04383092, -0.0...  \n",
       "2    [[[-0.05565757, -0.03793873, -0.04383092, -0.0...  \n",
       "3    [[[-0.05565757, -0.03793873, -0.04383092, -0.0...  \n",
       "4    [[[-0.05565757, -0.03793873, -0.04383092, -0.0...  \n",
       "..                                                 ...  \n",
       "307  [[[-0.05565757, -0.03793873, -0.04383092, -0.0...  \n",
       "308  [[[-0.05565757, -0.03793873, -0.04383092, -0.0...  \n",
       "309  [[[-0.05565757, -0.03793873, -0.04383092, -0.0...  \n",
       "310  [[[-0.05565757, -0.03793873, -0.04383092, -0.0...  \n",
       "311  [[[-0.05565757, -0.03793873, -0.04383092, -0.0...  \n",
       "\n",
       "[312 rows x 72 columns]"
      ]
     },
     "execution_count": 42,
     "metadata": {},
     "output_type": "execute_result"
    }
   ],
   "source": [
    "data"
   ]
  },
  {
   "cell_type": "code",
   "execution_count": 8,
   "id": "6d2a43eb",
   "metadata": {},
   "outputs": [],
   "source": [
    "dat_1 = hr_eda_bvp_temp.to_numpy()  # shape: (T, 4)\n",
    "dat_1 = dat_1[np.newaxis, :, :]"
   ]
  },
  {
   "cell_type": "code",
   "execution_count": null,
   "id": "c837975f",
   "metadata": {},
   "outputs": [],
   "source": []
  },
  {
   "cell_type": "code",
   "execution_count": 32,
   "id": "4499fbc2",
   "metadata": {},
   "outputs": [
    {
     "data": {
      "text/plain": [
       "(1, 18855, 5)"
      ]
     },
     "execution_count": 32,
     "metadata": {},
     "output_type": "execute_result"
    }
   ],
   "source": [
    "dat_1.shape"
   ]
  },
  {
   "cell_type": "code",
   "execution_count": 9,
   "id": "10a81752",
   "metadata": {},
   "outputs": [
    {
     "data": {
      "text/plain": [
       "(1, 18855, 5)"
      ]
     },
     "execution_count": 9,
     "metadata": {},
     "output_type": "execute_result"
    }
   ],
   "source": [
    "dat_1.shape"
   ]
  },
  {
   "cell_type": "code",
   "execution_count": 10,
   "id": "ef610192",
   "metadata": {},
   "outputs": [
    {
     "name": "stderr",
     "output_type": "stream",
     "text": [
      "/home/khalil/miniconda3/envs/env_works/lib/python3.10/site-packages/etna/settings.py:51: UserWarning: etna[chronos] is not available, to install it, run `pip install etna[chronos]`\n",
      "  warnings.warn(\"etna[chronos] is not available, to install it, run `pip install etna[chronos]`\")\n",
      "/home/khalil/miniconda3/envs/env_works/lib/python3.10/site-packages/etna/settings.py:66: UserWarning: etna[timesfm] is not available, to install it, run `pip install etna[timesfm]`\n",
      "  warnings.warn(\"etna[timesfm] is not available, to install it, run `pip install etna[timesfm]`\")\n",
      "/home/khalil/miniconda3/envs/env_works/lib/python3.10/site-packages/etna/settings.py:82: UserWarning: etna[prophet] is not available, to install it, run `pip install etna[prophet]`\n",
      "  warnings.warn(\"etna[prophet] is not available, to install it, run `pip install etna[prophet]`\")\n",
      "/home/khalil/miniconda3/envs/env_works/lib/python3.10/site-packages/etna/settings.py:91: UserWarning: etna[classification] is not available, to install it, run `pip install etna[classification]`\n",
      "  warnings.warn(\"etna[classification] is not available, to install it, run `pip install etna[classification]`\")\n",
      "/home/khalil/miniconda3/envs/env_works/lib/python3.10/site-packages/etna/settings.py:108: UserWarning: etna[statsforecast] is not available, to install it, run `pip install etna[statsforecast]`\n",
      "  warnings.warn(\"etna[statsforecast] is not available, to install it, run `pip install etna[statsforecast]`\")\n"
     ]
    }
   ],
   "source": [
    "from etna.transforms.embeddings.models import TS2VecEmbeddingModel"
   ]
  },
  {
   "cell_type": "code",
   "execution_count": null,
   "id": "cceaabbc",
   "metadata": {},
   "outputs": [
    {
     "name": "stdout",
     "output_type": "stream",
     "text": [
      "['ts2vec_tiny']\n"
     ]
    }
   ],
   "source": [
    "from etna.transforms.embeddings.models import TS2VecEmbeddingModel\n",
    "\n",
    "# List available pretrained models\n",
    "available_models = TS2VecEmbeddingModel.list_models()\n",
    "print(available_models)\n",
    "\n",
    "# Load a specific pretrained model\n",
    "model = TS2VecEmbeddingModel.load(model_name='ts2vec_tiny')\n",
    "model.embedding_model.batch_size = 1\n"
   ]
  },
  {
   "cell_type": "code",
   "execution_count": 20,
   "id": "efd915ba",
   "metadata": {},
   "outputs": [
    {
     "data": {
      "text/plain": [
       "(1, 18855, 5)"
      ]
     },
     "execution_count": 20,
     "metadata": {},
     "output_type": "execute_result"
    }
   ],
   "source": [
    "dat_1.shape"
   ]
  },
  {
   "cell_type": "code",
   "execution_count": 21,
   "id": "3e853ee7",
   "metadata": {},
   "outputs": [],
   "source": [
    "model.embedding_model.batch_size = 1"
   ]
  },
  {
   "cell_type": "code",
   "execution_count": 29,
   "id": "30ab95d5",
   "metadata": {},
   "outputs": [
    {
     "data": {
      "text/plain": [
       "(1, 18855, 1)"
      ]
     },
     "execution_count": 29,
     "metadata": {},
     "output_type": "execute_result"
    }
   ],
   "source": [
    "dat_1[:,:,0,None].shape"
   ]
  },
  {
   "cell_type": "code",
   "execution_count": 31,
   "id": "e652f152",
   "metadata": {},
   "outputs": [
    {
     "data": {
      "text/plain": [
       "(1, 18855, 16)"
      ]
     },
     "execution_count": 31,
     "metadata": {},
     "output_type": "execute_result"
    }
   ],
   "source": [
    "model.embedding_model.encode(dat_1[:,:,0,None]).shape"
   ]
  },
  {
   "cell_type": "code",
   "execution_count": 13,
   "id": "d955002c",
   "metadata": {},
   "outputs": [
    {
     "data": {
      "text/plain": [
       "t_seconds      0.00\n",
       "Unnamed: 0     0.00\n",
       "TEMP          31.17\n",
       "Name: 0, dtype: float64"
      ]
     },
     "execution_count": 13,
     "metadata": {},
     "output_type": "execute_result"
    }
   ],
   "source": [
    "df.iloc[0]"
   ]
  },
  {
   "cell_type": "code",
   "execution_count": 25,
   "id": "bc0b475f",
   "metadata": {},
   "outputs": [
    {
     "data": {
      "text/plain": [
       "(1, 18855, 320)"
      ]
     },
     "execution_count": 25,
     "metadata": {},
     "output_type": "execute_result"
    }
   ],
   "source": [
    "#Use the TS2Vec model to encode the time series data, pooling the time series data to a single vector\n",
    "from ts2vec import TS2Vec\n",
    "model = TS2Vec(input_dims=5)\n",
    "embedding = model.encode(dat_1,encoding_window='full_sequence')\n",
    "embedding.shape"
   ]
  },
  {
   "cell_type": "code",
   "execution_count": 27,
   "id": "4749a49f",
   "metadata": {},
   "outputs": [
    {
     "data": {
      "text/plain": [
       "(1, 320)"
      ]
     },
     "execution_count": 27,
     "metadata": {},
     "output_type": "execute_result"
    }
   ],
   "source": [
    "#maxpooling across dim=1 using numpy\n",
    "embedding = np.max(embedding, axis=1)\n",
    "embedding.shape\n"
   ]
  },
  {
   "cell_type": "code",
   "execution_count": 20,
   "id": "62ccd040",
   "metadata": {},
   "outputs": [
    {
     "data": {
      "text/plain": [
       "array([ -9.485781  ,  13.332074  , -16.295546  ,  -5.3082547 ,\n",
       "        -8.434439  ,  -7.246311  ,  -0.92227983,  10.377557  ,\n",
       "         5.8486757 ,  -4.2260165 ,  10.616538  ,  -3.049604  ,\n",
       "        -8.237917  ,   9.703344  ,   8.291063  , -13.267677  ,\n",
       "         2.1475034 ,  -2.1767588 ,  -9.245678  ,  -1.6883235 ,\n",
       "         7.218567  ,  -5.460306  ,   0.48868537,  -8.35013   ,\n",
       "         0.81740713,  18.342293  ,  12.174667  ,  -0.27726412,\n",
       "        14.329578  , -10.779439  ,  -5.621278  ,  -3.6623874 ,\n",
       "         7.658205  , -13.077543  ,   0.2083444 ,   6.2842484 ,\n",
       "        23.968235  ,  -3.4631057 ,   5.0482955 ,   2.4785128 ,\n",
       "       -11.997673  ,   1.6916022 ,  24.21688   , -22.794752  ,\n",
       "         0.86318827,  -0.5043845 ,  38.091522  , -20.266485  ,\n",
       "        -2.5980997 ,  -8.165831  ,   1.6012913 ,   4.8163714 ,\n",
       "         2.940488  ,   6.66364   , -14.669049  ,  11.283632  ,\n",
       "       -12.573567  ,   9.048862  ,  -0.9166999 ,  13.437372  ,\n",
       "        -7.2853518 ,   2.5603375 ,  16.68581   ,   1.633116  ,\n",
       "         7.0130467 , -18.68553   ,  -8.538195  ,  10.318756  ,\n",
       "        15.808274  ,  17.151722  ,   4.254736  ,   1.6897296 ,\n",
       "       -10.400235  ,   7.1594644 ,   8.650385  ,   8.521912  ,\n",
       "       -19.99722   , -12.097448  ,   7.9406834 ,  15.468742  ,\n",
       "        -2.9649673 ,  -6.0783024 ,  -6.8901052 ,  27.45041   ,\n",
       "         9.427199  ,   2.2021074 ,  -4.856378  ,   7.0579033 ,\n",
       "        -4.9776163 ,   3.9642088 ,  13.5646305 ,   8.4862175 ,\n",
       "         1.3986106 ,  13.033098  ,  10.540542  ,   5.0968122 ,\n",
       "        -6.267418  ,   5.3211927 ,   1.4561931 ,   6.503138  ,\n",
       "        14.294496  , -15.4232435 ,  33.455147  , -20.231194  ,\n",
       "        -2.2157073 ,   0.13697796, -12.578458  ,   5.122144  ,\n",
       "         0.2649207 ,  14.287823  ,   7.166247  ,  11.535331  ,\n",
       "        10.116236  ,   2.194911  ,  14.346951  ,  31.819717  ,\n",
       "        -0.67890346,  13.391206  ,   6.912746  ,  -8.6368065 ,\n",
       "        -8.766432  ,  13.725079  ,  -1.573337  ,  14.133108  ,\n",
       "        -1.9683943 ,  10.194616  , -16.515245  , -18.444965  ,\n",
       "       -11.021874  ,  10.898661  ,  27.587677  ,   5.3948145 ,\n",
       "         0.10575056,   7.2185955 ,   0.11925769,  -7.2031507 ,\n",
       "       -29.861717  ,  24.314707  ,  -8.451044  ,   6.0738583 ,\n",
       "       -16.268764  , -18.185415  ,  -7.043996  ,  -8.285535  ,\n",
       "         2.401903  ,   5.6221666 , -10.343031  , -13.058636  ,\n",
       "       -10.040888  ,   4.5779295 , -11.642993  , -31.43387   ,\n",
       "        28.673992  , -31.86085   ,   9.95447   ,  -0.97659206,\n",
       "         4.455753  ,   9.208798  ,   4.940466  ,   3.5487351 ,\n",
       "       -10.098368  ,  -1.3071945 ,   7.3903055 ,  -9.891693  ,\n",
       "        27.168638  ,  18.308922  ,  -6.834834  ,  -4.8832407 ,\n",
       "       -12.977816  , -11.668425  , -12.301598  , -13.890508  ,\n",
       "        11.907066  ,  -1.0023217 ,  15.080883  ,  -1.92187   ,\n",
       "        -1.1063347 ,   8.29697   , -15.624865  , -21.229994  ,\n",
       "       -10.127693  ,   4.40572   ,  21.50927   ,  -1.6077926 ,\n",
       "         7.4696693 , -10.721436  ,  -1.5407922 , -15.178698  ,\n",
       "        -1.7049751 ,  -6.82037   ,   2.8170533 ,  -9.83599   ,\n",
       "        -4.7387285 ,  -9.033191  ,  -9.929481  ,   1.0776818 ,\n",
       "        -1.7523655 ,   3.1717176 ,  10.567251  , -16.387589  ,\n",
       "         1.4270554 ,  14.564923  ,  16.578495  ,   9.599282  ,\n",
       "        14.981607  , -10.16675   , -22.833378  ,  19.802753  ,\n",
       "         0.1564312 ,  -2.9320006 , -11.559593  ,  -7.085829  ,\n",
       "         4.111222  ,  -1.9799474 , -14.54545   ,  -3.3404539 ,\n",
       "         0.72095025,  18.42831   , -16.799511  ,  15.715935  ,\n",
       "        17.261229  ,  -3.10995   , -22.6086    ,   4.7703047 ,\n",
       "        -2.681692  , -18.07745   ,  19.154276  , -21.561256  ,\n",
       "        28.720985  , -18.26882   ,  20.106005  , -19.296787  ,\n",
       "        20.523106  ,   5.7820086 , -10.294964  ,  10.190407  ,\n",
       "        -9.5728855 ,  25.263588  , -13.64888   ,   3.653747  ,\n",
       "        -8.471886  ,   2.2637744 , -11.264074  , -28.713812  ,\n",
       "       -18.31472   ,  11.969147  ,  -9.564945  ,  14.741279  ,\n",
       "        10.149779  ,   9.561886  ,  21.345922  , -10.290989  ,\n",
       "         4.763212  ,  -9.375185  ,  -6.5941    , -18.898663  ,\n",
       "        -4.9291525 ,  -0.5677142 ,  -0.2896831 ,   9.7188015 ,\n",
       "        -6.695078  ,   2.4093108 ,  -2.257942  ,   0.4820118 ,\n",
       "         9.035672  ,   0.50208664,  27.211374  ,  -4.1975594 ,\n",
       "       -19.13814   ,   7.131316  ,  -7.0014477 ,   8.909804  ,\n",
       "         1.2528422 , -17.684284  ,  19.081903  ,  23.939034  ,\n",
       "       -10.578055  ,  -6.2768297 ,  -5.3107085 ,   9.265404  ,\n",
       "         1.4772942 ,   7.418148  , -25.979034  ,   1.1902862 ,\n",
       "       -13.33324   ,  13.904225  ,  10.213008  ,   0.65322375,\n",
       "        11.046122  ,   5.500767  , -26.268396  , -11.99597   ,\n",
       "        22.13227   , -21.115234  ,  -3.123063  ,   7.5549626 ,\n",
       "         0.10494924,  -6.6410275 ,  -4.1570487 ,   5.024686  ,\n",
       "         0.50055254,  20.764744  ,  24.681114  ,  -1.5262272 ,\n",
       "        26.25894   ,  13.065105  ,   5.1462626 ,  -3.8829393 ,\n",
       "         3.366386  ,  -0.70001554,   1.8746413 ,   1.7422776 ,\n",
       "        -7.909661  , -26.871922  , -13.512648  ,  -2.9555063 ,\n",
       "        -9.84889   , -16.013561  ,   9.443823  ,   6.382063  ],\n",
       "      dtype=float32)"
      ]
     },
     "execution_count": 20,
     "metadata": {},
     "output_type": "execute_result"
    }
   ],
   "source": [
    "embedding[0][0]"
   ]
  },
  {
   "cell_type": "code",
   "execution_count": null,
   "id": "93d97e8e",
   "metadata": {},
   "outputs": [],
   "source": []
  }
 ],
 "metadata": {
  "kernelspec": {
   "display_name": "env_works",
   "language": "python",
   "name": "python3"
  },
  "language_info": {
   "codemirror_mode": {
    "name": "ipython",
    "version": 3
   },
   "file_extension": ".py",
   "mimetype": "text/x-python",
   "name": "python",
   "nbconvert_exporter": "python",
   "pygments_lexer": "ipython3",
   "version": "3.10.16"
  }
 },
 "nbformat": 4,
 "nbformat_minor": 5
}
